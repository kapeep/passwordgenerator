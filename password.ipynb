{
 "cells": [
  {
   "cell_type": "code",
   "execution_count": 5,
   "id": "204e9183-6065-4c5e-814d-177419f0d6e8",
   "metadata": {},
   "outputs": [
    {
     "name": "stdin",
     "output_type": "stream",
     "text": [
      "Enter password length:  12\n"
     ]
    },
    {
     "name": "stdout",
     "output_type": "stream",
     "text": [
      "Choose character set for password from these :\n",
      "         1. Digits\n",
      "         2. Letters\n",
      "         3. Special characters\n",
      "         4. Exit\n"
     ]
    },
    {
     "name": "stdin",
     "output_type": "stream",
     "text": [
      "Pick a number  2\n",
      "Pick a number  1\n",
      "Pick a number  3\n",
      "Pick a number  4\n"
     ]
    },
    {
     "name": "stdout",
     "output_type": "stream",
     "text": [
      "The random password is 3+E\"Uc#p|4c+\n"
     ]
    }
   ],
   "source": [
    "import string\n",
    "import random\n",
    "length = int(input(\"Enter password length: \"))\n",
    "print('''Choose character set for password from these :\n",
    "         1. Digits\n",
    "         2. Letters\n",
    "         3. Special characters\n",
    "         4. Exit''')\n",
    "characterList = \"\"\n",
    "# Getting character set for password\n",
    "while(True):\n",
    "    choice = int(input(\"Pick a number \"))\n",
    "    if(choice == 1):\n",
    "         \n",
    "        # Adding letters to possible characters\n",
    "        characterList += string.ascii_letters\n",
    "    elif(choice == 2):\n",
    "         \n",
    "        # Adding digits to possible characters\n",
    "        characterList += string.digits\n",
    "    elif(choice == 3):\n",
    "         \n",
    "        # Adding special characters to possible\n",
    "        # characters\n",
    "        characterList += string.punctuation\n",
    "    elif(choice == 4):\n",
    "        break\n",
    "    else:\n",
    "        print(\"Please pick a valid option!\")\n",
    " \n",
    "password = []\n",
    " \n",
    "for i in range(length):\n",
    "   \n",
    "    # Picking a random character from our\n",
    "    # character list\n",
    "    randomchar = random.choice(characterList)\n",
    "     \n",
    "    # appending a random character to password\n",
    "    password.append(randomchar)\n",
    " \n",
    "# printing password as a string\n",
    "print(\"The random password is \" + \"\".join(password))"
   ]
  },
  {
   "cell_type": "code",
   "execution_count": null,
   "id": "d1c99c07-7d35-4df4-bf04-89e6ca894c8a",
   "metadata": {},
   "outputs": [],
   "source": []
  },
  {
   "cell_type": "code",
   "execution_count": null,
   "id": "8d343fb0-6855-4e75-857f-2681d0f1d63a",
   "metadata": {},
   "outputs": [],
   "source": []
  }
 ],
 "metadata": {
  "kernelspec": {
   "display_name": "Python 3 (Intel® oneAPI 2023.2)",
   "language": "python",
   "name": "c009-intel_distribution_of_python_3_oneapi-beta05-python"
  },
  "language_info": {
   "codemirror_mode": {
    "name": "ipython",
    "version": 3
   },
   "file_extension": ".py",
   "mimetype": "text/x-python",
   "name": "python",
   "nbconvert_exporter": "python",
   "pygments_lexer": "ipython3",
   "version": "3.9.16"
  }
 },
 "nbformat": 4,
 "nbformat_minor": 5
}
